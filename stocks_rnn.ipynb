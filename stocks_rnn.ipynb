{
 "cells": [
  {
   "cell_type": "code",
   "execution_count": 246,
   "metadata": {
    "collapsed": true
   },
   "outputs": [],
   "source": [
    "import numpy as np\n",
    "from finta import TA\n",
    "import pandas as pd\n",
    "import yfinance as yf"
   ]
  },
  {
   "cell_type": "code",
   "execution_count": 247,
   "metadata": {
    "collapsed": false,
    "pycharm": {
     "name": "#%%\n"
    }
   },
   "outputs": [],
   "source": [
    "# Download training set\n",
    "dataset_train_unprocessed = yf.download('GOOG', end=pd.Timestamp.now() - pd.Timedelta(days=30), interval='1d')\n",
    "# dataset_train_unprocessed = pd.read_csv(\"training_set1.csv\", index_col=\"Date\", parse_dates=True)"
   ]
  },
  {
   "cell_type": "code",
   "execution_count": 248,
   "metadata": {
    "collapsed": false,
    "pycharm": {
     "name": "#%%\n"
    }
   },
   "outputs": [
    {
     "data": {
      "text/html": [
       "<div>\n",
       "<style scoped>\n",
       "    .dataframe tbody tr th:only-of-type {\n",
       "        vertical-align: middle;\n",
       "    }\n",
       "\n",
       "    .dataframe tbody tr th {\n",
       "        vertical-align: top;\n",
       "    }\n",
       "\n",
       "    .dataframe thead th {\n",
       "        text-align: right;\n",
       "    }\n",
       "</style>\n",
       "<table border=\"1\" class=\"dataframe\">\n",
       "  <thead>\n",
       "    <tr style=\"text-align: right;\">\n",
       "      <th></th>\n",
       "      <th>Open</th>\n",
       "      <th>High</th>\n",
       "      <th>Low</th>\n",
       "      <th>Close</th>\n",
       "      <th>Adj Close</th>\n",
       "      <th>Volume</th>\n",
       "      <th>RSI</th>\n",
       "      <th>WMA</th>\n",
       "      <th>MACD</th>\n",
       "      <th>SIGNAL</th>\n",
       "    </tr>\n",
       "    <tr>\n",
       "      <th>Date</th>\n",
       "      <th></th>\n",
       "      <th></th>\n",
       "      <th></th>\n",
       "      <th></th>\n",
       "      <th></th>\n",
       "      <th></th>\n",
       "      <th></th>\n",
       "      <th></th>\n",
       "      <th></th>\n",
       "      <th></th>\n",
       "    </tr>\n",
       "  </thead>\n",
       "  <tbody>\n",
       "    <tr>\n",
       "      <th>2004-08-31</th>\n",
       "      <td>50.958992</td>\n",
       "      <td>51.661362</td>\n",
       "      <td>50.889256</td>\n",
       "      <td>50.993862</td>\n",
       "      <td>50.993862</td>\n",
       "      <td>4941252</td>\n",
       "      <td>49.049201</td>\n",
       "      <td>52.276942</td>\n",
       "      <td>-0.122833</td>\n",
       "      <td>0.001699</td>\n",
       "    </tr>\n",
       "    <tr>\n",
       "      <th>2004-09-01</th>\n",
       "      <td>51.158245</td>\n",
       "      <td>51.292744</td>\n",
       "      <td>49.648903</td>\n",
       "      <td>49.937820</td>\n",
       "      <td>49.937820</td>\n",
       "      <td>9181687</td>\n",
       "      <td>43.138112</td>\n",
       "      <td>51.777591</td>\n",
       "      <td>-0.224212</td>\n",
       "      <td>-0.048918</td>\n",
       "    </tr>\n",
       "    <tr>\n",
       "      <th>2004-09-02</th>\n",
       "      <td>49.409801</td>\n",
       "      <td>50.993862</td>\n",
       "      <td>49.285267</td>\n",
       "      <td>50.565468</td>\n",
       "      <td>50.565468</td>\n",
       "      <td>15190525</td>\n",
       "      <td>47.210094</td>\n",
       "      <td>51.404766</td>\n",
       "      <td>-0.260888</td>\n",
       "      <td>-0.095296</td>\n",
       "    </tr>\n",
       "    <tr>\n",
       "      <th>2004-09-03</th>\n",
       "      <td>50.286514</td>\n",
       "      <td>50.680038</td>\n",
       "      <td>49.474556</td>\n",
       "      <td>49.818268</td>\n",
       "      <td>49.818268</td>\n",
       "      <td>5176932</td>\n",
       "      <td>43.240207</td>\n",
       "      <td>50.957775</td>\n",
       "      <td>-0.325271</td>\n",
       "      <td>-0.144685</td>\n",
       "    </tr>\n",
       "    <tr>\n",
       "      <th>2004-09-07</th>\n",
       "      <td>50.316402</td>\n",
       "      <td>50.809551</td>\n",
       "      <td>49.619015</td>\n",
       "      <td>50.600338</td>\n",
       "      <td>50.600338</td>\n",
       "      <td>5875340</td>\n",
       "      <td>48.154363</td>\n",
       "      <td>50.771141</td>\n",
       "      <td>-0.324528</td>\n",
       "      <td>-0.182746</td>\n",
       "    </tr>\n",
       "    <tr>\n",
       "      <th>...</th>\n",
       "      <td>...</td>\n",
       "      <td>...</td>\n",
       "      <td>...</td>\n",
       "      <td>...</td>\n",
       "      <td>...</td>\n",
       "      <td>...</td>\n",
       "      <td>...</td>\n",
       "      <td>...</td>\n",
       "      <td>...</td>\n",
       "      <td>...</td>\n",
       "    </tr>\n",
       "    <tr>\n",
       "      <th>2022-02-14</th>\n",
       "      <td>2667.310059</td>\n",
       "      <td>2723.330078</td>\n",
       "      <td>2666.040039</td>\n",
       "      <td>2706.000000</td>\n",
       "      <td>2706.000000</td>\n",
       "      <td>1339600</td>\n",
       "      <td>45.525634</td>\n",
       "      <td>2766.168039</td>\n",
       "      <td>-9.854701</td>\n",
       "      <td>-13.160117</td>\n",
       "    </tr>\n",
       "    <tr>\n",
       "      <th>2022-02-15</th>\n",
       "      <td>2749.429932</td>\n",
       "      <td>2758.000000</td>\n",
       "      <td>2710.790039</td>\n",
       "      <td>2728.510010</td>\n",
       "      <td>2728.510010</td>\n",
       "      <td>1328900</td>\n",
       "      <td>47.318249</td>\n",
       "      <td>2751.274702</td>\n",
       "      <td>-11.161903</td>\n",
       "      <td>-12.760474</td>\n",
       "    </tr>\n",
       "    <tr>\n",
       "      <th>2022-02-16</th>\n",
       "      <td>2728.610107</td>\n",
       "      <td>2758.919922</td>\n",
       "      <td>2696.472900</td>\n",
       "      <td>2749.750000</td>\n",
       "      <td>2749.750000</td>\n",
       "      <td>1280500</td>\n",
       "      <td>49.022892</td>\n",
       "      <td>2745.789806</td>\n",
       "      <td>-10.364504</td>\n",
       "      <td>-12.281280</td>\n",
       "    </tr>\n",
       "    <tr>\n",
       "      <th>2022-02-17</th>\n",
       "      <td>2723.000000</td>\n",
       "      <td>2736.790039</td>\n",
       "      <td>2644.040039</td>\n",
       "      <td>2646.169922</td>\n",
       "      <td>2646.169922</td>\n",
       "      <td>1548400</td>\n",
       "      <td>41.902277</td>\n",
       "      <td>2721.883561</td>\n",
       "      <td>-17.884446</td>\n",
       "      <td>-13.401914</td>\n",
       "    </tr>\n",
       "    <tr>\n",
       "      <th>2022-02-18</th>\n",
       "      <td>2660.750000</td>\n",
       "      <td>2676.479980</td>\n",
       "      <td>2606.141113</td>\n",
       "      <td>2609.350098</td>\n",
       "      <td>2609.350098</td>\n",
       "      <td>1592900</td>\n",
       "      <td>39.695060</td>\n",
       "      <td>2695.372244</td>\n",
       "      <td>-26.509521</td>\n",
       "      <td>-16.023435</td>\n",
       "    </tr>\n",
       "  </tbody>\n",
       "</table>\n",
       "<p>4400 rows × 10 columns</p>\n",
       "</div>"
      ],
      "text/plain": [
       "                   Open         High          Low        Close    Adj Close  \\\n",
       "Date                                                                          \n",
       "2004-08-31    50.958992    51.661362    50.889256    50.993862    50.993862   \n",
       "2004-09-01    51.158245    51.292744    49.648903    49.937820    49.937820   \n",
       "2004-09-02    49.409801    50.993862    49.285267    50.565468    50.565468   \n",
       "2004-09-03    50.286514    50.680038    49.474556    49.818268    49.818268   \n",
       "2004-09-07    50.316402    50.809551    49.619015    50.600338    50.600338   \n",
       "...                 ...          ...          ...          ...          ...   \n",
       "2022-02-14  2667.310059  2723.330078  2666.040039  2706.000000  2706.000000   \n",
       "2022-02-15  2749.429932  2758.000000  2710.790039  2728.510010  2728.510010   \n",
       "2022-02-16  2728.610107  2758.919922  2696.472900  2749.750000  2749.750000   \n",
       "2022-02-17  2723.000000  2736.790039  2644.040039  2646.169922  2646.169922   \n",
       "2022-02-18  2660.750000  2676.479980  2606.141113  2609.350098  2609.350098   \n",
       "\n",
       "              Volume        RSI          WMA       MACD     SIGNAL  \n",
       "Date                                                                \n",
       "2004-08-31   4941252  49.049201    52.276942  -0.122833   0.001699  \n",
       "2004-09-01   9181687  43.138112    51.777591  -0.224212  -0.048918  \n",
       "2004-09-02  15190525  47.210094    51.404766  -0.260888  -0.095296  \n",
       "2004-09-03   5176932  43.240207    50.957775  -0.325271  -0.144685  \n",
       "2004-09-07   5875340  48.154363    50.771141  -0.324528  -0.182746  \n",
       "...              ...        ...          ...        ...        ...  \n",
       "2022-02-14   1339600  45.525634  2766.168039  -9.854701 -13.160117  \n",
       "2022-02-15   1328900  47.318249  2751.274702 -11.161903 -12.760474  \n",
       "2022-02-16   1280500  49.022892  2745.789806 -10.364504 -12.281280  \n",
       "2022-02-17   1548400  41.902277  2721.883561 -17.884446 -13.401914  \n",
       "2022-02-18   1592900  39.695060  2695.372244 -26.509521 -16.023435  \n",
       "\n",
       "[4400 rows x 10 columns]"
      ]
     },
     "execution_count": 248,
     "metadata": {},
     "output_type": "execute_result"
    }
   ],
   "source": [
    "# Save training set\n",
    "# dataset_train.to_csv(\"training_set1.csv\", index_label=\"Date\")\n",
    "\n",
    "# Technical analysis added\n",
    "def add_technical_analysis(df):\n",
    "    df['RSI'] = TA.RSI(df)\n",
    "    df['WMA'] = TA.WMA(df)\n",
    "    macd_df = TA.MACD(df)\n",
    "    df = pd.concat([df, macd_df], axis=1)\n",
    "    df.dropna(inplace=True)\n",
    "    return df\n",
    "\n",
    "dataset_train = add_technical_analysis(dataset_train_unprocessed)\n",
    "\n",
    "training_set = dataset_train.values\n",
    "dataset_train"
   ]
  },
  {
   "cell_type": "code",
   "execution_count": 249,
   "metadata": {
    "collapsed": false,
    "pycharm": {
     "name": "#%%\n"
    }
   },
   "outputs": [],
   "source": [
    "from sklearn.preprocessing import MinMaxScaler\n",
    "sc = MinMaxScaler(feature_range=(0, 1))\n",
    "training_set_scaled = sc.fit_transform(training_set)"
   ]
  },
  {
   "cell_type": "code",
   "execution_count": 250,
   "metadata": {
    "collapsed": false,
    "pycharm": {
     "name": "#%%\n"
    }
   },
   "outputs": [
    {
     "data": {
      "text/plain": [
       "array([[5.18494979e-04, 3.28056930e-04, 5.44008083e-04, ...,\n",
       "        5.51929277e-04, 5.20274262e-01, 5.06855933e-01],\n",
       "       [5.85182531e-04, 2.04827714e-04, 1.23330631e-04, ...,\n",
       "        3.81887417e-04, 5.19707818e-01, 5.06536034e-01],\n",
       "       [0.00000000e+00, 1.04911445e-04, 0.00000000e+00, ...,\n",
       "        2.54930883e-04, 5.19502898e-01, 5.06242929e-01],\n",
       "       ...,\n",
       "       [8.96695331e-01, 9.05366166e-01, 8.97818992e-01, ...,\n",
       "        9.17763132e-01, 4.63050191e-01, 4.29228015e-01],\n",
       "       [8.94817697e-01, 8.97968133e-01, 8.80035885e-01, ...,\n",
       "        9.09622434e-01, 4.21033447e-01, 4.22145661e-01],\n",
       "       [8.73983389e-01, 8.77806445e-01, 8.67182102e-01, ...,\n",
       "        9.00594640e-01, 3.72841909e-01, 4.05577754e-01]])"
      ]
     },
     "execution_count": 250,
     "metadata": {},
     "output_type": "execute_result"
    }
   ],
   "source": [
    "training_set_scaled"
   ]
  },
  {
   "cell_type": "code",
   "execution_count": 251,
   "metadata": {
    "collapsed": false,
    "pycharm": {
     "name": "#%%\n"
    }
   },
   "outputs": [
    {
     "data": {
      "text/plain": [
       "array([[[5.18494979e-04, 3.28056930e-04, 5.44008083e-04, ...,\n",
       "         5.51929277e-04, 5.20274262e-01, 5.06855933e-01],\n",
       "        [5.85182531e-04, 2.04827714e-04, 1.23330631e-04, ...,\n",
       "         3.81887417e-04, 5.19707818e-01, 5.06536034e-01],\n",
       "        [0.00000000e+00, 1.04911445e-04, 0.00000000e+00, ...,\n",
       "         2.54930883e-04, 5.19502898e-01, 5.06242929e-01],\n",
       "        ...,\n",
       "        [3.32954400e-02, 3.37598391e-02, 3.29310588e-02, ...,\n",
       "         3.22635089e-02, 5.55066236e-01, 5.46349145e-01],\n",
       "        [3.45258217e-02, 3.45558332e-02, 3.43062811e-02, ...,\n",
       "         3.27556538e-02, 5.55611522e-01, 5.46287188e-01],\n",
       "        [3.38956267e-02, 3.37448523e-02, 3.26421604e-02, ...,\n",
       "         3.28304409e-02, 5.53583459e-01, 5.45778828e-01]],\n",
       "\n",
       "       [[5.85182531e-04, 2.04827714e-04, 1.23330631e-04, ...,\n",
       "         3.81887417e-04, 5.19707818e-01, 5.06536034e-01],\n",
       "        [0.00000000e+00, 1.04911445e-04, 0.00000000e+00, ...,\n",
       "         2.54930883e-04, 5.19502898e-01, 5.06242929e-01],\n",
       "        [2.93424971e-04, 0.00000000e+00, 6.41992054e-05, ...,\n",
       "         1.02718685e-04, 5.19143162e-01, 5.05930792e-01],\n",
       "        ...,\n",
       "        [3.45258217e-02, 3.45558332e-02, 3.43062811e-02, ...,\n",
       "         3.27556538e-02, 5.55611522e-01, 5.46287188e-01],\n",
       "        [3.38956267e-02, 3.37448523e-02, 3.26421604e-02, ...,\n",
       "         3.28304409e-02, 5.53583459e-01, 5.45778828e-01],\n",
       "        [3.25352021e-02, 3.28372836e-02, 3.24546280e-02, ...,\n",
       "         3.28961433e-02, 5.51940245e-01, 5.45000408e-01]],\n",
       "\n",
       "       [[0.00000000e+00, 1.04911445e-04, 0.00000000e+00, ...,\n",
       "         2.54930883e-04, 5.19502898e-01, 5.06242929e-01],\n",
       "        [2.93424971e-04, 0.00000000e+00, 6.41992054e-05, ...,\n",
       "         1.02718685e-04, 5.19143162e-01, 5.05930792e-01],\n",
       "        [3.03428168e-04, 4.32961998e-05, 1.13193778e-04, ...,\n",
       "         3.91650758e-05, 5.19147318e-01, 5.05690248e-01],\n",
       "        ...,\n",
       "        [3.38956267e-02, 3.37448523e-02, 3.26421604e-02, ...,\n",
       "         3.28304409e-02, 5.53583459e-01, 5.45778828e-01],\n",
       "        [3.25352021e-02, 3.28372836e-02, 3.24546280e-02, ...,\n",
       "         3.28961433e-02, 5.51940245e-01, 5.45000408e-01],\n",
       "        [3.26519057e-02, 3.23893271e-02, 3.21471456e-02, ...,\n",
       "         3.28112547e-02, 5.49655909e-01, 5.43860903e-01]],\n",
       "\n",
       "       ...,\n",
       "\n",
       "       [[7.55885459e-01, 7.55158287e-01, 7.53756580e-01, ...,\n",
       "         7.61200294e-01, 8.78173648e-01, 8.63319474e-01],\n",
       "        [7.48308165e-01, 7.50384465e-01, 7.49300060e-01, ...,\n",
       "         7.62115482e-01, 8.70365424e-01, 8.71067946e-01],\n",
       "        [7.50978967e-01, 7.53206596e-01, 7.48581002e-01, ...,\n",
       "         7.61092084e-01, 8.48958166e-01, 8.72423915e-01],\n",
       "        ...,\n",
       "        [9.12221456e-01, 9.14307074e-01, 8.87405816e-01, ...,\n",
       "         9.31697311e-01, 4.88827761e-01, 4.18451279e-01],\n",
       "        [8.76178960e-01, 8.93468460e-01, 8.87497396e-01, ...,\n",
       "         9.24702450e-01, 4.65898654e-01, 4.23673802e-01],\n",
       "        [9.03663469e-01, 9.05058635e-01, 9.02674786e-01, ...,\n",
       "         9.19630881e-01, 4.58594826e-01, 4.26199529e-01]],\n",
       "\n",
       "       [[7.48308165e-01, 7.50384465e-01, 7.49300060e-01, ...,\n",
       "         7.62115482e-01, 8.70365424e-01, 8.71067946e-01],\n",
       "        [7.50978967e-01, 7.53206596e-01, 7.48581002e-01, ...,\n",
       "         7.61092084e-01, 8.48958166e-01, 8.72423915e-01],\n",
       "        [7.47712412e-01, 7.60580633e-01, 7.55961117e-01, ...,\n",
       "         7.63431426e-01, 8.49566343e-01, 8.73646274e-01],\n",
       "        ...,\n",
       "        [8.76178960e-01, 8.93468460e-01, 8.87497396e-01, ...,\n",
       "         9.24702450e-01, 4.65898654e-01, 4.23673802e-01],\n",
       "        [9.03663469e-01, 9.05058635e-01, 9.02674786e-01, ...,\n",
       "         9.19630881e-01, 4.58594826e-01, 4.26199529e-01],\n",
       "        [8.96695331e-01, 9.05366166e-01, 8.97818992e-01, ...,\n",
       "         9.17763132e-01, 4.63050191e-01, 4.29228015e-01]],\n",
       "\n",
       "       [[7.50978967e-01, 7.53206596e-01, 7.48581002e-01, ...,\n",
       "         7.61092084e-01, 8.48958166e-01, 8.72423915e-01],\n",
       "        [7.47712412e-01, 7.60580633e-01, 7.55961117e-01, ...,\n",
       "         7.63431426e-01, 8.49566343e-01, 8.73646274e-01],\n",
       "        [7.59915111e-01, 7.65742214e-01, 7.68045415e-01, ...,\n",
       "         7.66091995e-01, 8.51397011e-01, 8.75038300e-01],\n",
       "        ...,\n",
       "        [9.03663469e-01, 9.05058635e-01, 9.02674786e-01, ...,\n",
       "         9.19630881e-01, 4.58594826e-01, 4.26199529e-01],\n",
       "        [8.96695331e-01, 9.05366166e-01, 8.97818992e-01, ...,\n",
       "         9.17763132e-01, 4.63050191e-01, 4.29228015e-01],\n",
       "        [8.94817697e-01, 8.97968133e-01, 8.80035885e-01, ...,\n",
       "         9.09622434e-01, 4.21033447e-01, 4.22145661e-01]]])"
      ]
     },
     "execution_count": 251,
     "metadata": {},
     "output_type": "execute_result"
    }
   ],
   "source": [
    "X_train = []\n",
    "y_train = []\n",
    "STEP_SIZE = 210\n",
    "\n",
    "# Must start at STEP_SIZE until the end of the data\n",
    "for i in range(STEP_SIZE, len(training_set_scaled)):\n",
    "    X_train.append(training_set_scaled[i - STEP_SIZE:i, :])\n",
    "    y_train.append(training_set_scaled[i, 3])\n",
    "\n",
    "X_train, y_train = np.array(X_train), np.array(y_train)\n",
    "X_train"
   ]
  },
  {
   "cell_type": "code",
   "execution_count": 252,
   "metadata": {
    "collapsed": false,
    "pycharm": {
     "name": "#%%\n"
    }
   },
   "outputs": [],
   "source": [
    "# shape (batch_size, timesteps 90, input_dim(6 features))\n",
    "X_train = np.reshape(X_train, (X_train.shape[0], X_train.shape[1], 10))"
   ]
  },
  {
   "cell_type": "code",
   "execution_count": 253,
   "metadata": {
    "collapsed": false,
    "pycharm": {
     "name": "#%%\n"
    }
   },
   "outputs": [
    {
     "data": {
      "text/plain": [
       "array([[[5.18494979e-04, 3.28056930e-04, 5.44008083e-04, ...,\n",
       "         5.51929277e-04, 5.20274262e-01, 5.06855933e-01],\n",
       "        [5.85182531e-04, 2.04827714e-04, 1.23330631e-04, ...,\n",
       "         3.81887417e-04, 5.19707818e-01, 5.06536034e-01],\n",
       "        [0.00000000e+00, 1.04911445e-04, 0.00000000e+00, ...,\n",
       "         2.54930883e-04, 5.19502898e-01, 5.06242929e-01],\n",
       "        ...,\n",
       "        [3.32954400e-02, 3.37598391e-02, 3.29310588e-02, ...,\n",
       "         3.22635089e-02, 5.55066236e-01, 5.46349145e-01],\n",
       "        [3.45258217e-02, 3.45558332e-02, 3.43062811e-02, ...,\n",
       "         3.27556538e-02, 5.55611522e-01, 5.46287188e-01],\n",
       "        [3.38956267e-02, 3.37448523e-02, 3.26421604e-02, ...,\n",
       "         3.28304409e-02, 5.53583459e-01, 5.45778828e-01]],\n",
       "\n",
       "       [[5.85182531e-04, 2.04827714e-04, 1.23330631e-04, ...,\n",
       "         3.81887417e-04, 5.19707818e-01, 5.06536034e-01],\n",
       "        [0.00000000e+00, 1.04911445e-04, 0.00000000e+00, ...,\n",
       "         2.54930883e-04, 5.19502898e-01, 5.06242929e-01],\n",
       "        [2.93424971e-04, 0.00000000e+00, 6.41992054e-05, ...,\n",
       "         1.02718685e-04, 5.19143162e-01, 5.05930792e-01],\n",
       "        ...,\n",
       "        [3.45258217e-02, 3.45558332e-02, 3.43062811e-02, ...,\n",
       "         3.27556538e-02, 5.55611522e-01, 5.46287188e-01],\n",
       "        [3.38956267e-02, 3.37448523e-02, 3.26421604e-02, ...,\n",
       "         3.28304409e-02, 5.53583459e-01, 5.45778828e-01],\n",
       "        [3.25352021e-02, 3.28372836e-02, 3.24546280e-02, ...,\n",
       "         3.28961433e-02, 5.51940245e-01, 5.45000408e-01]],\n",
       "\n",
       "       [[0.00000000e+00, 1.04911445e-04, 0.00000000e+00, ...,\n",
       "         2.54930883e-04, 5.19502898e-01, 5.06242929e-01],\n",
       "        [2.93424971e-04, 0.00000000e+00, 6.41992054e-05, ...,\n",
       "         1.02718685e-04, 5.19143162e-01, 5.05930792e-01],\n",
       "        [3.03428168e-04, 4.32961998e-05, 1.13193778e-04, ...,\n",
       "         3.91650758e-05, 5.19147318e-01, 5.05690248e-01],\n",
       "        ...,\n",
       "        [3.38956267e-02, 3.37448523e-02, 3.26421604e-02, ...,\n",
       "         3.28304409e-02, 5.53583459e-01, 5.45778828e-01],\n",
       "        [3.25352021e-02, 3.28372836e-02, 3.24546280e-02, ...,\n",
       "         3.28961433e-02, 5.51940245e-01, 5.45000408e-01],\n",
       "        [3.26519057e-02, 3.23893271e-02, 3.21471456e-02, ...,\n",
       "         3.28112547e-02, 5.49655909e-01, 5.43860903e-01]],\n",
       "\n",
       "       ...,\n",
       "\n",
       "       [[7.55885459e-01, 7.55158287e-01, 7.53756580e-01, ...,\n",
       "         7.61200294e-01, 8.78173648e-01, 8.63319474e-01],\n",
       "        [7.48308165e-01, 7.50384465e-01, 7.49300060e-01, ...,\n",
       "         7.62115482e-01, 8.70365424e-01, 8.71067946e-01],\n",
       "        [7.50978967e-01, 7.53206596e-01, 7.48581002e-01, ...,\n",
       "         7.61092084e-01, 8.48958166e-01, 8.72423915e-01],\n",
       "        ...,\n",
       "        [9.12221456e-01, 9.14307074e-01, 8.87405816e-01, ...,\n",
       "         9.31697311e-01, 4.88827761e-01, 4.18451279e-01],\n",
       "        [8.76178960e-01, 8.93468460e-01, 8.87497396e-01, ...,\n",
       "         9.24702450e-01, 4.65898654e-01, 4.23673802e-01],\n",
       "        [9.03663469e-01, 9.05058635e-01, 9.02674786e-01, ...,\n",
       "         9.19630881e-01, 4.58594826e-01, 4.26199529e-01]],\n",
       "\n",
       "       [[7.48308165e-01, 7.50384465e-01, 7.49300060e-01, ...,\n",
       "         7.62115482e-01, 8.70365424e-01, 8.71067946e-01],\n",
       "        [7.50978967e-01, 7.53206596e-01, 7.48581002e-01, ...,\n",
       "         7.61092084e-01, 8.48958166e-01, 8.72423915e-01],\n",
       "        [7.47712412e-01, 7.60580633e-01, 7.55961117e-01, ...,\n",
       "         7.63431426e-01, 8.49566343e-01, 8.73646274e-01],\n",
       "        ...,\n",
       "        [8.76178960e-01, 8.93468460e-01, 8.87497396e-01, ...,\n",
       "         9.24702450e-01, 4.65898654e-01, 4.23673802e-01],\n",
       "        [9.03663469e-01, 9.05058635e-01, 9.02674786e-01, ...,\n",
       "         9.19630881e-01, 4.58594826e-01, 4.26199529e-01],\n",
       "        [8.96695331e-01, 9.05366166e-01, 8.97818992e-01, ...,\n",
       "         9.17763132e-01, 4.63050191e-01, 4.29228015e-01]],\n",
       "\n",
       "       [[7.50978967e-01, 7.53206596e-01, 7.48581002e-01, ...,\n",
       "         7.61092084e-01, 8.48958166e-01, 8.72423915e-01],\n",
       "        [7.47712412e-01, 7.60580633e-01, 7.55961117e-01, ...,\n",
       "         7.63431426e-01, 8.49566343e-01, 8.73646274e-01],\n",
       "        [7.59915111e-01, 7.65742214e-01, 7.68045415e-01, ...,\n",
       "         7.66091995e-01, 8.51397011e-01, 8.75038300e-01],\n",
       "        ...,\n",
       "        [9.03663469e-01, 9.05058635e-01, 9.02674786e-01, ...,\n",
       "         9.19630881e-01, 4.58594826e-01, 4.26199529e-01],\n",
       "        [8.96695331e-01, 9.05366166e-01, 8.97818992e-01, ...,\n",
       "         9.17763132e-01, 4.63050191e-01, 4.29228015e-01],\n",
       "        [8.94817697e-01, 8.97968133e-01, 8.80035885e-01, ...,\n",
       "         9.09622434e-01, 4.21033447e-01, 4.22145661e-01]]])"
      ]
     },
     "execution_count": 253,
     "metadata": {},
     "output_type": "execute_result"
    }
   ],
   "source": [
    "X_train"
   ]
  },
  {
   "cell_type": "code",
   "execution_count": 254,
   "metadata": {
    "collapsed": false,
    "pycharm": {
     "name": "#%%\n"
    }
   },
   "outputs": [],
   "source": [
    "from keras.models import Sequential\n",
    "from keras.layers import Dense\n",
    "from keras.layers import LSTM\n",
    "from keras.layers import Dropout"
   ]
  },
  {
   "cell_type": "code",
   "execution_count": 255,
   "metadata": {
    "collapsed": false,
    "pycharm": {
     "name": "#%%\n"
    }
   },
   "outputs": [],
   "source": [
    "regressor = Sequential()"
   ]
  },
  {
   "cell_type": "code",
   "execution_count": 256,
   "metadata": {
    "collapsed": false,
    "pycharm": {
     "name": "#%%\n"
    }
   },
   "outputs": [],
   "source": [
    "regressor.add(LSTM(units=50, return_sequences=True, input_shape=(X_train.shape[1], 10)))\n",
    "regressor.add(Dropout(rate=0.2))"
   ]
  },
  {
   "cell_type": "code",
   "execution_count": 257,
   "metadata": {
    "collapsed": false,
    "pycharm": {
     "name": "#%%\n"
    }
   },
   "outputs": [],
   "source": [
    "regressor.add(LSTM(units=50, return_sequences=True))\n",
    "regressor.add(Dropout(rate=0.2))\n",
    "\n",
    "regressor.add(LSTM(units=50, return_sequences=True))\n",
    "regressor.add(Dropout(rate=0.2))\n",
    "\n",
    "regressor.add(LSTM(units=50))\n",
    "regressor.add(Dropout(rate=0.2))\n",
    "\n",
    "regressor.add(Dense(units=1))"
   ]
  },
  {
   "cell_type": "code",
   "execution_count": 258,
   "metadata": {
    "collapsed": false,
    "pycharm": {
     "name": "#%%\n"
    }
   },
   "outputs": [],
   "source": [
    "regressor.compile(optimizer='adam', loss='mean_squared_error')"
   ]
  },
  {
   "cell_type": "code",
   "execution_count": 259,
   "metadata": {
    "collapsed": false,
    "pycharm": {
     "name": "#%%\n"
    }
   },
   "outputs": [],
   "source": [
    "# Train model\n",
    "# regressor.fit(X_train, y_train, batch_size=32, epochs=100)"
   ]
  },
  {
   "cell_type": "code",
   "execution_count": 260,
   "metadata": {
    "collapsed": false,
    "pycharm": {
     "name": "#%%\n"
    }
   },
   "outputs": [],
   "source": [
    "# Save model\n",
    "# regressor.save('second_model.h5')"
   ]
  },
  {
   "cell_type": "code",
   "execution_count": 261,
   "metadata": {
    "collapsed": false,
    "pycharm": {
     "name": "#%%\n"
    }
   },
   "outputs": [],
   "source": [
    "# Load model\n",
    "from keras.models import load_model\n",
    "regressor = load_model('second_model.h5')"
   ]
  },
  {
   "cell_type": "code",
   "execution_count": 262,
   "metadata": {
    "collapsed": false,
    "pycharm": {
     "name": "#%%\n"
    }
   },
   "outputs": [],
   "source": [
    "# Download test set\n",
    "dataset_test_unprocessed = yf.download('GOOG', start=pd.Timestamp.now() - pd.Timedelta(days=30), interval='1d')\n",
    "# dataset_test_unprocessed = pd.read_csv(\"test_set.csv\", index_col=\"Date\", parse_dates=True)\n",
    "dataset_total_unprocessed = pd.concat((dataset_train_unprocessed, dataset_test_unprocessed), axis=0)\n",
    "dataset_total = add_technical_analysis(dataset_total_unprocessed)\n"
   ]
  },
  {
   "cell_type": "code",
   "execution_count": 263,
   "metadata": {
    "collapsed": false,
    "pycharm": {
     "name": "#%%\n"
    }
   },
   "outputs": [],
   "source": [
    "# Save test set\n",
    "# dataset_test.to_csv(\"test_set.csv\", index_label=\"Date\")"
   ]
  },
  {
   "cell_type": "code",
   "execution_count": 264,
   "metadata": {
    "collapsed": false,
    "pycharm": {
     "name": "#%%\n"
    }
   },
   "outputs": [
    {
     "data": {
      "text/plain": [
       "array([[0.74771241, 0.76058063, 0.75596112, ..., 0.76343143, 0.84956634,\n",
       "        0.87364627],\n",
       "       [0.75991511, 0.76574221, 0.76804542, ..., 0.76609199, 0.85139701,\n",
       "        0.8750383 ],\n",
       "       [0.76529357, 0.76446851, 0.76479964, ..., 0.76696632, 0.84032074,\n",
       "        0.87364622],\n",
       "       ...,\n",
       "       [0.89948657, 0.90293579, 0.89637996, ..., 0.89278532, 0.48810844,\n",
       "        0.36106385],\n",
       "       [0.89716051, 0.92912828, 0.90919003, ..., 0.90300133, 0.55358487,\n",
       "        0.39760047],\n",
       "       [0.91482199, 0.91926641, 0.92049424, ..., 0.90983062, 0.58869827,\n",
       "        0.43477323]])"
      ]
     },
     "execution_count": 264,
     "metadata": {},
     "output_type": "execute_result"
    }
   ],
   "source": [
    "test_set = dataset_total.values\n",
    "inputs = dataset_total[len(dataset_total) - len(dataset_test_unprocessed) - STEP_SIZE :].values\n",
    "inputs = inputs.reshape(-1,10)\n",
    "inputs = sc.transform(inputs)\n",
    "inputs"
   ]
  },
  {
   "cell_type": "code",
   "execution_count": 265,
   "metadata": {
    "collapsed": false,
    "pycharm": {
     "name": "#%%\n"
    }
   },
   "outputs": [],
   "source": [
    "X_test = []\n",
    "for i in range(STEP_SIZE, len(inputs)):\n",
    "    X_test.append(inputs[i - STEP_SIZE:i, :])\n",
    "X_test = np.array(X_test)\n",
    "\n",
    "X_test = np.reshape(X_test, (X_test.shape[0], X_test.shape[1], 10))"
   ]
  },
  {
   "cell_type": "code",
   "execution_count": 269,
   "metadata": {
    "collapsed": false,
    "pycharm": {
     "name": "#%%\n"
    }
   },
   "outputs": [
    {
     "data": {
      "text/plain": [
       "array([[0.8693751 ],\n",
       "       [0.8612424 ],\n",
       "       [0.8526712 ],\n",
       "       [0.86655647],\n",
       "       [0.87749016],\n",
       "       [0.88023615],\n",
       "       [0.878289  ],\n",
       "       [0.88013875],\n",
       "       [0.879783  ],\n",
       "       [0.87006885],\n",
       "       [0.84756655],\n",
       "       [0.84389424],\n",
       "       [0.8708427 ],\n",
       "       [0.8721541 ],\n",
       "       [0.8628695 ],\n",
       "       [0.8472702 ],\n",
       "       [0.8530229 ],\n",
       "       [0.8692575 ],\n",
       "       [0.87624186],\n",
       "       [0.88426757],\n",
       "       [0.88660336],\n",
       "       [0.90040874]], dtype=float32)"
      ]
     },
     "execution_count": 269,
     "metadata": {},
     "output_type": "execute_result"
    }
   ],
   "source": [
    "predicted_stock_price = regressor.predict(X_test);\n",
    "predicted_stock_price"
   ]
  },
  {
   "cell_type": "code",
   "execution_count": 267,
   "metadata": {
    "collapsed": false,
    "pycharm": {
     "name": "#%%\n"
    }
   },
   "outputs": [
    {
     "data": {
      "text/plain": [
       "array([2626.96051441, 2602.85226172, 2577.44410272, 2618.60503406,\n",
       "       2651.01646695, 2659.15656253, 2653.38446263, 2658.86785152,\n",
       "       2657.81319056, 2629.01700611, 2562.31204138, 2551.4260108 ,\n",
       "       2631.3109688 , 2635.1984961 , 2607.6755378 , 2561.43354008,\n",
       "       2578.48657209, 2626.61190559, 2647.31605406, 2671.1071487 ,\n",
       "       2678.03126561, 2718.95543271])"
      ]
     },
     "execution_count": 267,
     "metadata": {},
     "output_type": "execute_result"
    }
   ],
   "source": [
    "# Created to match scale shape\n",
    "predicted_scaled = np.zeros(shape=(len(predicted_stock_price), 10) )\n",
    "# put predicted values in the correct column\n",
    "predicted_scaled[:,3] = predicted_stock_price[:,0]\n",
    "# Reverse scaling on the predicted price\n",
    "predicted_stock_price = sc.inverse_transform(predicted_scaled)[:,3]\n",
    "predicted_stock_price"
   ]
  },
  {
   "cell_type": "code",
   "execution_count": 268,
   "metadata": {
    "collapsed": false,
    "pycharm": {
     "name": "#%%\n"
    }
   },
   "outputs": [
    {
     "data": {
      "image/png": "[encoded data removed]",
      "text/plain": [
       "<Figure size 432x288 with 1 Axes>"
      ]
     },
     "metadata": {
      "needs_background": "light"
     },
     "output_type": "display_data"
    }
   ],
   "source": [
    "import matplotlib.pyplot as plt\n",
    "plt.plot(dataset_test_unprocessed['Close'].reset_index(drop=True), color='red', label='Real Google Stock Price')\n",
    "plt.plot(predicted_stock_price, color='blue', label='Predicted Google Stock Price')\n",
    "plt.title('Google Stock Price Prediction')\n",
    "plt.xlabel('Time')\n",
    "plt.ylabel('Google Stock Price')\n",
    "plt.legend()\n",
    "plt.show();"
   ]
  },
  {
   "cell_type": "code",
   "execution_count": 268,
   "metadata": {
    "collapsed": false,
    "pycharm": {
     "name": "#%%\n"
    }
   },
   "outputs": [],
   "source": []
  }
 ],
 "metadata": {
  "kernelspec": {
   "display_name": "Python 3",
   "language": "python",
   "name": "python3"
  },
  "language_info": {
   "codemirror_mode": {
    "name": "ipython",
    "version": 2
   },
   "file_extension": ".py",
   "mimetype": "text/x-python",
   "name": "python",
   "nbconvert_exporter": "python",
   "pygments_lexer": "ipython2",
   "version": "2.7.6"
  }
 },
 "nbformat": 4,
 "nbformat_minor": 0
}
